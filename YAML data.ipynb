{
 "cells": [
  {
   "cell_type": "code",
   "execution_count": 28,
   "metadata": {
    "collapsed": false
   },
   "outputs": [],
   "source": [
    "%matplotlib inline\n",
    "import sys\n",
    "sys.path.append('./.local/lib/python2.7/site-packages')\n",
    "import yaml\n",
    "import matplotlib.pyplot as mplot\n",
    "import numpy as np\n"
   ]
  },
  {
   "cell_type": "code",
   "execution_count": 15,
   "metadata": {
    "collapsed": false
   },
   "outputs": [],
   "source": [
    "datafile = open('HEPData-ins524694-v1-Table1.yaml')\n",
    "hepdata = yaml.safe_load(datafile)\n",
    "datafile.close()\n"
   ]
  },
  {
   "cell_type": "code",
   "execution_count": 16,
   "metadata": {
    "collapsed": false
   },
   "outputs": [],
   "source": [
    "xdict=hepdata['independent_variables'][0]['values']\n",
    "ydict=hepdata['dependent_variables'][0]['values']"
   ]
  },
  {
   "cell_type": "code",
   "execution_count": 44,
   "metadata": {
    "collapsed": false
   },
   "outputs": [],
   "source": [
    "xlist=[0.5*(xdict[x]['low']+xdict[x]['high']) for x in range(0,len(xdict))]\n",
    "xerrlist=[0.5*(xdict[x]['high']-xdict[x]['low']) for x in range(0,len(xdict))]\n",
    "ylist=[ydict[x]['value'] for x in range(0,len(xdict))]\n",
    "yerrlist=[ydict[x]['errors'][0]['symerror']+ydict[x]['errors'][1]['symerror'] for x in range(len(ydict))]"
   ]
  },
  {
   "cell_type": "code",
   "execution_count": 45,
   "metadata": {
    "collapsed": false
   },
   "outputs": [
    {
     "data": {
      "image/png": "[encoded data removed]",
      "text/plain": [
       "<matplotlib.figure.Figure at 0x7f67b4c87590>"
      ]
     },
     "metadata": {},
     "output_type": "display_data"
    }
   ],
   "source": [
    "descrip = ['Atom 1', 'Atom 2', 'Atom 3', 'Atom 4']\n",
    "\n",
    "\n",
    "mplot.errorbar(xlist, ylist, xerr=xerrlist, yerr = yerrlist, linestyle='None', color='red')\n",
    "\n",
    "mplot.show()"
   ]
  },
  {
   "cell_type": "code",
   "execution_count": null,
   "metadata": {
    "collapsed": true
   },
   "outputs": [],
   "source": []
  }
 ],
 "metadata": {
  "kernelspec": {
   "display_name": "Python 2",
   "language": "python",
   "name": "python2"
  },
  "language_info": {
   "codemirror_mode": {
    "name": "ipython",
    "version": 2
   },
   "file_extension": ".py",
   "mimetype": "text/x-python",
   "name": "python",
   "nbconvert_exporter": "python",
   "pygments_lexer": "ipython2",
   "version": "2.7.13"
  }
 },
 "nbformat": 4,
 "nbformat_minor": 0
}
